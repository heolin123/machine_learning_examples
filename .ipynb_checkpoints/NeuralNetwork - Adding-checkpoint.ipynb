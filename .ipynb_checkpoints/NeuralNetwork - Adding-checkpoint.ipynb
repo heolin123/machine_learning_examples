{
 "cells": [
  {
   "cell_type": "code",
   "execution_count": 83,
   "metadata": {
    "collapsed": false
   },
   "outputs": [],
   "source": [
    "from pybrain.supervised.trainers import BackpropTrainer\n",
    "from pybrain.structure import FeedForwardNetwork, LinearLayer, FullConnection\n",
    "from pybrain.datasets import SupervisedDataSet\n",
    "\n",
    "import numpy as np"
   ]
  },
  {
   "cell_type": "code",
   "execution_count": 84,
   "metadata": {
    "collapsed": false
   },
   "outputs": [],
   "source": [
    "network = FeedForwardNetwork()\n",
    "\n",
    "input_layer = LinearLayer(2)\n",
    "output_layer = LinearLayer(1)\n",
    "network.addInputModule(input_layer)\n",
    "network.addOutputModule(output_layer)\n",
    "\n",
    "input_to_output_connections = FullConnection(input_layer, output_layer)\n",
    "network.addConnection(input_to_output_connections)\n",
    "\n",
    "network.sortModules()"
   ]
  },
  {
   "cell_type": "code",
   "execution_count": 85,
   "metadata": {
    "collapsed": false
   },
   "outputs": [],
   "source": [
    "n = 500\n",
    "min_value = 0\n",
    "max_value = 100\n",
    "X = np.random.randint(min_value, max_value, size=n)\n",
    "Y = np.random.randint(min_value, max_value, size=n)\n",
    "Z = (X + Y)\n",
    "\n",
    "X = X / float(max_value)\n",
    "Y = Y / float(max_value)\n",
    "Z = Z / float(max_value)\n",
    "\n",
    "training_set = SupervisedDataSet(2, 1)\n",
    "for i in range(n):\n",
    "    training_set.addSample(np.array([X[i], Y[i]]), Z[i])\n"
   ]
  },
  {
   "cell_type": "code",
   "execution_count": 86,
   "metadata": {
    "collapsed": false
   },
   "outputs": [
    {
     "name": "stdout",
     "output_type": "stream",
     "text": [
      "Total error: 0.060513117677\n",
      "0 [ 1.10017338  0.89228371]\n",
      "Total error: 0.000213829764454\n",
      "1 [ 1.01165377  0.9870362 ]\n",
      "Total error: 2.94637085334e-06\n",
      "2 [ 1.00149769  0.99862758]\n",
      "Total error: 4.06504961232e-08\n",
      "3 [ 1.00016014  0.99982948]\n",
      "Total error: 5.453546605e-10\n",
      "4 [ 1.00001872  0.99997996]\n",
      "Total error: 7.27376011017e-12\n",
      "5 [ 1.00000224  0.99999774]\n",
      "Total error: 1.00769259086e-13\n",
      "6 [ 1.00000025  0.99999972]\n",
      "Total error: 1.38498723446e-15\n",
      "7 [ 1.00000003  0.99999997]\n",
      "Total error: 1.84678218392e-17\n",
      "8 [ 1.  1.]\n",
      "Total error: 2.42689010393e-19\n",
      "9 [ 1.  1.]\n"
     ]
    }
   ],
   "source": [
    "trainer = BackpropTrainer(network, training_set, learningrate=0.01, momentum=0.8, verbose=True)\n",
    "for i in range(10):\n",
    "    trainer.trainEpochs(1)\n",
    "    print i, network.params"
   ]
  },
  {
   "cell_type": "code",
   "execution_count": 87,
   "metadata": {
    "collapsed": false
   },
   "outputs": [
    {
     "data": {
      "text/plain": [
       "array([ 14.])"
      ]
     },
     "execution_count": 87,
     "metadata": {},
     "output_type": "execute_result"
    }
   ],
   "source": [
    "network.activate([6,8])"
   ]
  }
 ],
 "metadata": {
  "kernelspec": {
   "display_name": "Python 2",
   "language": "python",
   "name": "python2"
  },
  "language_info": {
   "codemirror_mode": {
    "name": "ipython",
    "version": 2
   },
   "file_extension": ".py",
   "mimetype": "text/x-python",
   "name": "python",
   "nbconvert_exporter": "python",
   "pygments_lexer": "ipython2",
   "version": "2.7.6"
  }
 },
 "nbformat": 4,
 "nbformat_minor": 0
}
