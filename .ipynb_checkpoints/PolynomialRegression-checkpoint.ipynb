{
 "cells": [
  {
   "cell_type": "code",
   "execution_count": 5,
   "metadata": {
    "collapsed": true
   },
   "outputs": [],
   "source": [
    "%matplotlib inline"
   ]
  },
  {
   "cell_type": "code",
   "execution_count": 8,
   "metadata": {
    "collapsed": true
   },
   "outputs": [],
   "source": [
    "import numpy as np\n",
    "import pylab"
   ]
  },
  {
   "cell_type": "code",
   "execution_count": 69,
   "metadata": {
    "collapsed": false
   },
   "outputs": [
    {
     "data": {
      "image/png": "[encoded data removed]",
      "text/plain": [
       "<matplotlib.figure.Figure at 0x7f2ad619c390>"
      ]
     },
     "metadata": {},
     "output_type": "display_data"
    }
   ],
   "source": [
    "n = 10\n",
    "theta_target = np.array([1, 1, 20]).reshape(3, 1)\n",
    "alpha = 0.000001\n",
    "\n",
    "E=np.random.normal(0, 3, n).reshape(n, 1)\n",
    "X=np.ones(shape=(n, 3))\n",
    "X[:, 0]=np.arange(n)*np.arange(n)\n",
    "X[:, 1]=np.arange(n)\n",
    "Y=X.dot(theta_target)+E\n",
    "pylab.plot(X[:, 1], Y, 'o')\n",
    "pylab.plot(X[:, 1], Y-E, 'k-', color='red')\n",
    "pylab.show()"
   ]
  },
  {
   "cell_type": "code",
   "execution_count": 71,
   "metadata": {
    "collapsed": false
   },
   "outputs": [
    {
     "name": "stdout",
     "output_type": "stream",
     "text": [
      "[[ 1.96589506]\n",
      " [ 0.25408798]\n",
      " [ 0.03525693]]\n",
      "[[ 0.]\n",
      " [ 0.]\n",
      " [ 0.]]\n",
      "==================================================\n",
      "[[ 2.24972725]\n",
      " [ 0.29146757]\n",
      " [ 0.0406614 ]]\n",
      "[[-0.03525693]\n",
      " [-0.25408798]\n",
      " [-1.96589506]]\n",
      "==================================================\n",
      "[[ 2.59941944]\n",
      " [ 0.33758337]\n",
      " [ 0.04735068]]\n",
      "[[-0.07591832]\n",
      " [-0.54555555]\n",
      " [-4.21562231]]\n",
      "==================================================\n",
      "[[ 3.03667595]\n",
      " [ 0.39532397]\n",
      " [ 0.05575285]]\n",
      "[[-0.12326901]\n",
      " [-0.88313892]\n",
      " [-6.81504175]]\n",
      "==================================================\n",
      "[[ 3.59276401]\n",
      " [ 0.46885313]\n",
      " [ 0.06648572]]\n",
      "[[-0.17902185]\n",
      " [-1.27846289]\n",
      " [-9.8517177 ]]\n",
      "==================================================\n",
      "[[ 4.31395578]\n",
      " [ 0.5643363 ]\n",
      " [ 0.08046534]]\n",
      "[[ -0.24550757]\n",
      " [ -1.74731601]\n",
      " [-13.44448171]]\n",
      "==================================================\n",
      "[[ 5.27088757]\n",
      " [ 0.69119062]\n",
      " [ 0.09909266]]\n",
      "[[ -0.32597292]\n",
      " [ -2.31165232]\n",
      " [-17.75843749]]\n",
      "==================================================\n",
      "[[ 6.57535914]\n",
      " [ 0.8643293 ]\n",
      " [ 0.12458897]]\n",
      "[[ -0.42506557]\n",
      " [ -3.00284293]\n",
      " [-23.02932506]]\n",
      "==================================================\n",
      "[[ 8.41203016]\n",
      " [ 1.10839784]\n",
      " [ 0.16062962]]\n",
      "[[ -0.54965454]\n",
      " [ -3.86717224]\n",
      " [-29.6046842 ]]\n",
      "==================================================\n",
      "[[ 11.10185583]\n",
      " [  1.46625485]\n",
      " [  0.2136135 ]]\n",
      "[[ -0.71028416]\n",
      " [ -4.97557008]\n",
      " [-38.01671436]]\n",
      "==================================================\n",
      "[[ 15.23834484]\n",
      " [  2.01719462]\n",
      " [  0.29539283]]\n",
      "[[ -0.92389766]\n",
      " [ -6.44182493]\n",
      " [-49.11857019]]\n",
      "==================================================\n",
      "[[ 22.00662454]\n",
      " [  2.91963087]\n",
      " [  0.4296715 ]]\n",
      "[[ -1.21929049]\n",
      " [ -8.45901955]\n",
      " [-64.35691504]]\n",
      "==================================================\n",
      "[[ 34.01554593]\n",
      " [  4.52244681]\n",
      " [  0.66870765]]\n",
      "[[ -1.64896198]\n",
      " [-11.37865042]\n",
      " [-86.36353958]]\n",
      "==================================================\n",
      "[[ 57.78928553]\n",
      " [  7.69850873]\n",
      " [  1.14337145]]\n",
      "[[  -2.31766964]\n",
      " [ -15.90109723]\n",
      " [-120.37908551]]\n",
      "==================================================\n",
      "[[ 112.73175552]\n",
      " [  15.04491099]\n",
      " [   2.24339459]]\n",
      "[[  -3.46104109]\n",
      " [ -23.59960597]\n",
      " [-178.16837104]]\n",
      "==================================================\n",
      "[[ 272.78859405]\n",
      " [  36.46240862]\n",
      " [   5.4556985 ]]\n",
      "[[  -5.70443568]\n",
      " [ -38.64451696]\n",
      " [-290.90012656]]\n",
      "==================================================\n",
      "[[ 950.10975245]\n",
      " [ 127.15143919]\n",
      " [  19.07584852]]\n",
      "[[ -11.16013418]\n",
      " [ -75.10692558]\n",
      " [-563.68872061]]\n",
      "==================================================\n",
      "[[ 6520.1845672 ]\n",
      " [  873.26254059]\n",
      " [  131.23225793]]\n",
      "[[  -30.2359827 ]\n",
      " [ -202.25836476]\n",
      " [-1513.79847306]]\n",
      "==================================================\n",
      "[[ 179565.38983774]\n",
      " [  24057.04084911]\n",
      " [   3617.64092041]]\n",
      "[[ -161.46824063]\n",
      " [-1075.52090535]\n",
      " [-8033.98304026]]\n",
      "==================================================\n",
      "[[ 97503726.88782103]\n",
      " [ 13063365.60511206]\n",
      " [  1964563.17965921]]\n",
      "[[  -3779.10916104]\n",
      " [ -25132.56175446]\n",
      " [-187599.372878  ]]\n",
      "==================================================\n",
      "[[  2.64380908e+13]\n",
      " [  3.54211717e+12]\n",
      " [  5.32685903e+11]]\n",
      "[[ -1968342.28882025]\n",
      " [-13088498.16686652]\n",
      " [-97691326.26069903]]\n",
      "==================================================\n",
      "[[  1.93632389e+24]\n",
      " [  2.59424496e+23]\n",
      " [  3.90139200e+22]]\n",
      "[[ -5.32687871e+11]\n",
      " [ -3.54213026e+12]\n",
      " [ -2.64381884e+13]]\n",
      "==================================================\n",
      "[[  1.03865440e+46]\n",
      " [  1.39156669e+45]\n",
      " [  2.09272705e+44]]\n",
      "[[ -3.90139200e+22]\n",
      " [ -2.59424496e+23]\n",
      " [ -1.93632389e+24]]\n",
      "==================================================\n",
      "[[  2.98852661e+89]\n",
      " [  4.00396330e+88]\n",
      " [  6.02141637e+87]]\n",
      "[[ -2.09272705e+44]\n",
      " [ -1.39156669e+45]\n",
      " [ -1.03865440e+46]]\n",
      "==================================================\n",
      "[[  2.47416843e+176]\n",
      " [  3.31483734e+175]\n",
      " [  4.98506462e+174]]\n",
      "[[ -6.02141637e+87]\n",
      " [ -4.00396330e+88]\n",
      " [ -2.98852661e+89]]\n",
      "==================================================\n",
      "[[ nan]\n",
      " [ nan]\n",
      " [ inf]]\n",
      "[[ -4.98506462e+174]\n",
      " [ -3.31483734e+175]\n",
      " [ -2.47416843e+176]]\n",
      "==================================================\n",
      "[[-inf]\n",
      " [ nan]\n",
      " [ nan]]\n"
     ]
    },
    {
     "name": "stderr",
     "output_type": "stream",
     "text": [
      "/usr/local/lib/python2.7/dist-packages/ipykernel/__main__.py:8: RuntimeWarning: overflow encountered in square\n",
      "/usr/local/lib/python2.7/dist-packages/ipykernel/__main__.py:8: RuntimeWarning: invalid value encountered in multiply\n"
     ]
    },
    {
     "data": {
      "image/png": "[encoded data removed]",
      "text/plain": [
       "<matplotlib.figure.Figure at 0x7f2ad6115c50>"
      ]
     },
     "metadata": {},
     "output_type": "display_data"
    }
   ],
   "source": [
    "theta = np.zeros(shape=(3, 1))\n",
    "delta = np.ones(len(theta)).reshape(len(theta),1)\n",
    "while np.max(np.abs(delta)) > 0.001:\n",
    "    delta = np.zeros(len(theta)).reshape(len(theta),1)\n",
    "    delta.astype('float64')\n",
    "    for ind, x in enumerate(X):\n",
    "        x = x.reshape(1, len(x))\n",
    "        delta += ((x.dot(theta) - Y[ind]) ** 2) * x.T\n",
    "    print delta * alpha\n",
    "    print theta\n",
    "    theta = theta - delta * alpha\n",
    "    print \"=\"*50\n",
    "print theta\n",
    "P=X.dot(theta)\n",
    "\n",
    "pylab.plot(X[:, 1], Y, 'o')\n",
    "pylab.plot(X[:, 1], Y-E, 'k-')\n",
    "pylab.plot(X[:, 1], P, 'k-',  color='red')\n",
    "pylab.show()"
   ]
  },
  {
   "cell_type": "code",
   "execution_count": null,
   "metadata": {
    "collapsed": true
   },
   "outputs": [],
   "source": []
  }
 ],
 "metadata": {
  "kernelspec": {
   "display_name": "Python 2",
   "language": "python",
   "name": "python2"
  },
  "language_info": {
   "codemirror_mode": {
    "name": "ipython",
    "version": 2
   },
   "file_extension": ".py",
   "mimetype": "text/x-python",
   "name": "python",
   "nbconvert_exporter": "python",
   "pygments_lexer": "ipython2",
   "version": "2.7.6"
  }
 },
 "nbformat": 4,
 "nbformat_minor": 0
}
