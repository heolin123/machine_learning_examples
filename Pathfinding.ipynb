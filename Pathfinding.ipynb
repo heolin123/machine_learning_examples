{
 "cells": [
  {
   "cell_type": "code",
   "execution_count": 81,
   "metadata": {
    "collapsed": true
   },
   "outputs": [],
   "source": [
    "import collections\n",
    "import numpy as np"
   ]
  },
  {
   "cell_type": "code",
   "execution_count": 83,
   "metadata": {
    "collapsed": true
   },
   "outputs": [],
   "source": [
    "class Queue:\n",
    "    def __init__(self):\n",
    "        self.elements = collections.deque()\n",
    "    \n",
    "    def empty(self):\n",
    "        return len(self.elements) == 0\n",
    "    \n",
    "    def put(self, x):\n",
    "        self.elements.append(x)\n",
    "    \n",
    "    def get(self):\n",
    "        return self.elements.popleft()"
   ]
  },
  {
   "cell_type": "code",
   "execution_count": 84,
   "metadata": {
    "collapsed": true
   },
   "outputs": [],
   "source": [
    "import heapq\n",
    "\n",
    "class PriorityQueue:\n",
    "    def __init__(self):\n",
    "        self.elements = []\n",
    "    \n",
    "    def empty(self):\n",
    "        return len(self.elements) == 0\n",
    "    \n",
    "    def put(self, item, priority):\n",
    "        heapq.heappush(self.elements, (priority, item))\n",
    "    \n",
    "    def get(self):\n",
    "        return heapq.heappop(self.elements)[1]"
   ]
  },
  {
   "cell_type": "code",
   "execution_count": 86,
   "metadata": {
    "collapsed": true
   },
   "outputs": [],
   "source": [
    "def map_text(text, map_dict):\n",
    "    result = text\n",
    "    for c in map_dict:\n",
    "        result = result.replace(c, map_dict[c])\n",
    "    return result\n",
    "\n",
    "def map_char(char, map_dict):\n",
    "    if char in map_dict:\n",
    "        return map_dict[char]\n",
    "    return char"
   ]
  },
  {
   "cell_type": "code",
   "execution_count": 87,
   "metadata": {
    "collapsed": false
   },
   "outputs": [],
   "source": [
    "MAPPING = {'#':'1', '-':'0', 'e':'2', 'b':'3', '→':'4', '↓':'5', '←':'6', '↑':'7', '*':'8'}\n",
    "INV_MAPPING = {v: k for k, v in MAPPING.items()}"
   ]
  },
  {
   "cell_type": "code",
   "execution_count": 88,
   "metadata": {
    "collapsed": false
   },
   "outputs": [],
   "source": [
    "class Grid:\n",
    "    def __init__(self, grid_file_path):\n",
    "        self.end = None\n",
    "        self.start = None\n",
    "        self.initial_grid = None\n",
    "        self.grid = None\n",
    "        self.grid_file_path = grid_file_path\n",
    "        \n",
    "        self.parse_grid()\n",
    "        self.get_objects_position()\n",
    "        \n",
    "        self.initial_grid = np.copy(self.grid)\n",
    "\n",
    "    def parse_grid(self):\n",
    "        grid_raw = open(self.grid_file_path).read()\n",
    "        grid_mapped = map_text(grid_raw, MAPPING)\n",
    "        self.grid = np.array(map(list, grid_mapped.split('\\n')[:-1]))\n",
    "        \n",
    "    def get_objects_position(self):\n",
    "        for y in xrange(self.grid.shape[0]):\n",
    "            for x in xrange(self.grid.shape[1]):\n",
    "                if self.grid[y][x] == '2':\n",
    "                    self.grid[y][x] = 0\n",
    "                    self.end = (x, y)\n",
    "                if self.grid[y][x] == '3':\n",
    "                    self.grid[y][x] = 0\n",
    "                    self.start = (x, y)\n",
    "    \n",
    "    def get_neighbours(self, x, y):\n",
    "        return filter(lambda x:self.check_point(x[0], x[1]), [(x-1, y), (x+1, y), (x, y-1), (x, y+1)])\n",
    "    \n",
    "    def check_point(self, x, y):\n",
    "        if (x >= 0 and x < self.grid.shape[1]):\n",
    "            if (y >= 0 and y < self.grid.shape[0]):\n",
    "                return True\n",
    "        return False\n",
    "    \n",
    "    def add_arrows(self, parents):\n",
    "        grid = self.grid\n",
    "        for point in parents:\n",
    "            x1, y1 = point\n",
    "            if not parents[point]:\n",
    "                continue\n",
    "            x2, y2 = parents[point]\n",
    "            xDif = x1 - x2\n",
    "            yDif = y1 - y2\n",
    "            if xDif == 1:\n",
    "                grid[y1][x1] = 4\n",
    "            if xDif == -1:\n",
    "                grid[y1][x1] = 6\n",
    "            if yDif == 1:\n",
    "                grid[y1][x1] = 5\n",
    "            if yDif == -1:\n",
    "                grid[y1][x1] = 7\n",
    "    \n",
    "    def get(self, point):\n",
    "        return self.grid[point[1]][point[0]]\n",
    "    \n",
    "    def set_value(self, point, value):\n",
    "        self.grid[point[1]][point[0]] = value\n",
    "    \n",
    "    def cost(self, point1, point2):\n",
    "        return abs(point1[0] - point2[0]) + abs(point1[1] - point2[1])\n",
    "    \n",
    "    def show(self):\n",
    "        for y in xrange(grid.grid.shape[0]):\n",
    "            line = \"\"\n",
    "            for x in xrange(grid.grid.shape[1]):\n",
    "                value = grid.get((x, y))\n",
    "                if (x,y) == grid.start:\n",
    "                    value = \"3\"\n",
    "                if (x, y) == grid.end:\n",
    "                    value = \"2\"\n",
    "                line += map_char(value, INV_MAPPING) + \" \"\n",
    "            print line\n",
    "            \n",
    "    def clear(self):\n",
    "        self.grid = np.copy(self.initial_grid)\n",
    "                    \n",
    "grid = Grid(\"/home/heolin123/programming/python/maze/map2.txt\")"
   ]
  },
  {
   "cell_type": "code",
   "execution_count": 89,
   "metadata": {
    "collapsed": false
   },
   "outputs": [],
   "source": [
    "def breadth_first_search(grid, start=None, end=None, stop_on_exit=False):\n",
    "    if start:\n",
    "        grid.start=start\n",
    "    if end:\n",
    "        grid.end=end\n",
    "    queue = Queue()\n",
    "    queue.put(grid.start)\n",
    "    parents = {}\n",
    "    parents[grid.start] = None\n",
    "    \n",
    "    while not queue.empty():\n",
    "        current = queue.get() \n",
    "        if current == grid.end and stop_on_exit:\n",
    "            return parents\n",
    "        for next in grid.get_neighbours(current[0], current[1]):\n",
    "            if next not in parents and grid.get(next) != '1':\n",
    "                queue.put(next)\n",
    "                parents[next] = current\n",
    "    return parents"
   ]
  },
  {
   "cell_type": "code",
   "execution_count": 90,
   "metadata": {
    "collapsed": true
   },
   "outputs": [],
   "source": [
    "def build_path(start, end, parents):\n",
    "    path = []\n",
    "    current = end\n",
    "    while current:\n",
    "        path.insert(0, current)\n",
    "        current = parents[current]\n",
    "        \n",
    "    return path"
   ]
  },
  {
   "cell_type": "code",
   "execution_count": 91,
   "metadata": {
    "collapsed": false
   },
   "outputs": [
    {
     "name": "stdout",
     "output_type": "stream",
     "text": [
      "↑ ↑ ↑ ↑ ↑ ↑ ↑ ↑ ↑ ↑ ↑ ↑ ↑ ↑ ↑ ↑ ↑ ↑ ↑ ↑ ↑ # # # # - - - - - - - - - - \n",
      "↑ ↑ ↑ ↑ ↑ ↑ ↑ ↑ ↑ ↑ ↑ ↑ ↑ ↑ ↑ ↑ ↑ ↑ ↑ ↑ ↑ # # # # - - - - - - - - - - \n",
      "← ← ← ← ← ← ← ↑ ↑ ↑ ↑ ↑ ↑ ↑ ↑ ↑ ↑ ↑ ↑ ↑ ↑ # # # # - - - - - - - - - - \n",
      "↓ ↓ ↓ # # # # ← ← b * * * * * * * * * → → # # # # - - - - - - - - - - \n",
      "↓ ↓ ↓ # # # # ↓ ↓ ↓ ↓ ↓ ↓ # # # # ↓ * ↓ ↓ # # # # - - - - - - - - - - \n",
      "↓ ↓ ↓ # # # # ↓ ↓ ↓ ↓ ↓ ↓ # # # # ↓ * ↓ ↓ # # # # # # # # # # - - - - \n",
      "↓ ↓ ↓ # # # # ↓ ↓ ↓ ↓ ↓ ↓ # # # # ↓ * ↓ ↓ # # # # # # # # # # - - - - \n",
      "↓ ↓ ↓ # # # # ↓ ↓ ↓ ↓ ↓ ↓ # # # # ↓ * ↓ ↓ → → → → - - - - - - - - - - \n",
      "↓ ↓ ↓ # # # # ↓ ↓ ↓ ↓ ↓ ↓ # # # # ↓ * ↓ ↓ ↓ ↓ ↓ - - - - - - - - - - - \n",
      "↓ ↓ ↓ # # # # ↓ ↓ ↓ ↓ ↓ ↓ # # # # ↓ * ↓ ↓ ↓ ↓ - - - - - - - - - - - - \n",
      "↓ ↓ ↓ # # # # ↓ ↓ ↓ ↓ ↓ ↓ # # # # ↓ * ↓ ↓ ↓ - - - - - - - - - - - - - \n",
      "↓ ↓ ↓ # # # # ↓ ↓ ↓ ↓ ↓ ↓ # # # # ↓ * ↓ ↓ - - - - - - - - - - - - - - \n",
      "← ← ← ← ← ← ← ↓ ↓ ↓ ↓ ↓ ↓ # # # # ↓ e ↓ - - - - - - - - - - - - - - - \n",
      "↓ ↓ ↓ ↓ ↓ ↓ ↓ ↓ ↓ ↓ ↓ ↓ ↓ # # # # ↓ - - - - - - - - - - - - - - - - - \n",
      "- ↓ ↓ ↓ ↓ ↓ ↓ ↓ ↓ ↓ ↓ ↓ ↓ # # # # - - - - - - - - - - - - - - - - - - \n"
     ]
    }
   ],
   "source": [
    "grid.end = (18, 12)\n",
    "parents = breadth_first_search(grid, stop_on_exit=True)\n",
    "grid.clear()\n",
    "grid.add_arrows(parents)\n",
    "\n",
    "for path in build_path(grid.start, grid.end, parents):\n",
    "    grid.set_value(path, 8)\n",
    "    \n",
    "grid.show()\n"
   ]
  },
  {
   "cell_type": "code",
   "execution_count": 92,
   "metadata": {
    "collapsed": true
   },
   "outputs": [],
   "source": [
    "def dijkstra_search(grid, start=None, end=None, stop_on_exit=False):\n",
    "    if start:\n",
    "        grid.start=start\n",
    "    if end:\n",
    "        grid.end=end\n",
    "    queue = PriorityQueue()\n",
    "    queue.put(grid.start, 0)\n",
    "    parents = {}\n",
    "    costs = {}\n",
    "    parents[grid.start] = None\n",
    "    costs[grid.start] = 0\n",
    "        \n",
    "    while not queue.empty():\n",
    "        current = queue.get() \n",
    "        if current == grid.end and stop_on_exit:\n",
    "            return parents\n",
    "        \n",
    "        for next in grid.get_neighbours(current[0], current[1]):\n",
    "            next_cost = costs[current] + grid.cost(current, next)\n",
    "            if (next not in parents or next_cost < costs[next]) and grid.get(next) != '1':\n",
    "                costs[next] = next_cost\n",
    "                priority = next_cost\n",
    "                queue.put(next, priority)\n",
    "                parents[next] = current\n",
    "    return parents"
   ]
  },
  {
   "cell_type": "code",
   "execution_count": 93,
   "metadata": {
    "collapsed": false
   },
   "outputs": [
    {
     "name": "stdout",
     "output_type": "stream",
     "text": [
      "↑ ↑ ↑ ↑ ↑ ↑ ↑ ↑ ↑ ↑ → → → → → → → → → → → # # # # - - - - - - - - - - \n",
      "↑ ↑ ↑ ↑ ↑ ↑ ↑ ↑ ↑ ↑ → → → → → → → → → → → # # # # - - - - - - - - - - \n",
      "← ← ← ← ← ← ← ↑ ↑ ↑ → → → → → → → → → → → # # # # - - - - - - - - - - \n",
      "↓ ↓ ↓ # # # # ← ← b * * * * * * * * → → → # # # # - - - - - - - - - - \n",
      "↓ ↓ ↓ # # # # ↓ ↓ ↓ → → → # # # # * → → → # # # # - - - - - - - - - - \n",
      "↓ ↓ ↓ # # # # ↓ ↓ ↓ → → → # # # # * → → → # # # # # # # # # # - - - - \n",
      "↓ ↓ ↓ # # # # ↓ ↓ ↓ → → → # # # # * → → → # # # # # # # # # # - - - - \n",
      "↓ ↓ ↓ # # # # ↓ ↓ ↓ → → → # # # # * → → → → → → - - - - - - - - - - - \n",
      "↓ ↓ ↓ # # # # ↓ ↓ ↓ → → → # # # # * → → → → → - - - - - - - - - - - - \n",
      "↓ ↓ ↓ # # # # ↓ ↓ ↓ → → → # # # # * → → → → - - - - - - - - - - - - - \n",
      "↓ ↓ ↓ # # # # ↓ ↓ ↓ → → → # # # # * → → → - - - - - - - - - - - - - - \n",
      "↓ ↓ ↓ # # # # ↓ ↓ ↓ → → → # # # # * → → - - - - - - - - - - - - - - - \n",
      "← ← ← ← ← ← ← ↓ ↓ ↓ → → → # # # # * e - - - - - - - - - - - - - - - - \n",
      "↓ ↓ ↓ ↓ ↓ ↓ ↓ ↓ ↓ ↓ → → → # # # # ↓ → - - - - - - - - - - - - - - - - \n",
      "- ↓ ↓ ↓ ↓ ↓ ↓ ↓ ↓ ↓ → → → # # # # ↓ - - - - - - - - - - - - - - - - - \n"
     ]
    }
   ],
   "source": [
    "parents = dijkstra_search(grid, stop_on_exit=True)\n",
    "grid.clear()\n",
    "grid.add_arrows(parents)\n",
    "\n",
    "for path in build_path(grid.start, grid.end, parents):\n",
    "    grid.set_value(path, 8)\n",
    "    \n",
    "grid.show()\n"
   ]
  },
  {
   "cell_type": "code",
   "execution_count": 94,
   "metadata": {
    "collapsed": false
   },
   "outputs": [],
   "source": [
    "import math\n",
    "#def heuristic(point1, point2):\n",
    "#    return math.sqrt((point1[0] - point2[0]) ** 2 + (point1[1] - point2[1]) ** 2)\n",
    "def heuristic(point1, point2):\n",
    "    return abs(point1[0] - point2[0]) + abs(point1[1] - point2[1])\n"
   ]
  },
  {
   "cell_type": "code",
   "execution_count": 97,
   "metadata": {
    "collapsed": false
   },
   "outputs": [],
   "source": [
    "def astar_search(grid, start=None, end=None, stop_on_exit=False):\n",
    "    if start:\n",
    "        grid.start=start\n",
    "    if end:\n",
    "        grid.end=end\n",
    "    queue = PriorityQueue()\n",
    "    queue.put(grid.start, 0)\n",
    "    parents = {}\n",
    "    costs = {}\n",
    "    parents[grid.start] = None\n",
    "    costs[grid.start] = 0\n",
    "        \n",
    "    while not queue.empty():\n",
    "        current = queue.get() \n",
    "        if current == grid.end and stop_on_exit:\n",
    "            return parents\n",
    "        \n",
    "        for next in grid.get_neighbours(current[0], current[1]):\n",
    "            next_cost = costs[current] + grid.cost(current, next)\n",
    "            if (next not in parents or next_cost < costs[next]) and grid.get(next) != '1':\n",
    "                costs[next] = next_cost\n",
    "                priority = next_cost + heuristic(grid.end, next)\n",
    "                queue.put(next, priority)\n",
    "                parents[next] = current\n",
    "    return parents"
   ]
  },
  {
   "cell_type": "code",
   "execution_count": 98,
   "metadata": {
    "collapsed": false
   },
   "outputs": [
    {
     "name": "stdout",
     "output_type": "stream",
     "text": [
      "- - - - - - - - - - - - - - - - - - - - - # # # # - - - - - - - - - - \n",
      "- - - - - - - - - - - - - - - - - - - - - # # # # - - - - - - - - - - \n",
      "- - - - - - - - - ↑ ↑ ↑ ↑ ↑ ↑ ↑ ↑ ↑ ↑ - - # # # # - - - - - - - - - - \n",
      "- - - # # # # - ← b * * * * * * * * → → - # # # # - - - - - - - - - - \n",
      "- - - # # # # - ← ↓ → → → # # # # * → → - # # # # - - - - - - - - - - \n",
      "- - - # # # # - ← ↓ → → → # # # # * → → - # # # # # # # # # # - - - - \n",
      "- - - # # # # - ← ↓ → → → # # # # * → → - # # # # # # # # # # - - - - \n",
      "- - - # # # # - ← ↓ → → → # # # # * → → - - - - - - - - - - - - - - - \n",
      "- - - # # # # - ← ↓ → → → # # # # * → → - - - - - - - - - - - - - - - \n",
      "- - - # # # # - ← ↓ → → → # # # # * → → - - - - - - - - - - - - - - - \n",
      "- - - # # # # - ← ↓ → → → # # # # * → → - - - - - - - - - - - - - - - \n",
      "- - - # # # # - ← ↓ → → → # # # # * → → - - - - - - - - - - - - - - - \n",
      "- - - - - - - - ← ↓ → → → # # # # * e - - - - - - - - - - - - - - - - \n",
      "- - - - - - - - - ↓ ↓ ↓ ↓ # # # # ↓ - - - - - - - - - - - - - - - - - \n",
      "- - - - - - - - - - - - - # # # # - - - - - - - - - - - - - - - - - - \n"
     ]
    }
   ],
   "source": [
    "parents = astar_search(grid, stop_on_exit=True)\n",
    "grid.clear()\n",
    "grid.add_arrows(parents)\n",
    "\n",
    "for path in build_path(grid.start, grid.end, parents):\n",
    "    grid.set_value(path, 8)\n",
    "    \n",
    "grid.show()\n"
   ]
  },
  {
   "cell_type": "code",
   "execution_count": null,
   "metadata": {
    "collapsed": true
   },
   "outputs": [],
   "source": []
  }
 ],
 "metadata": {
  "kernelspec": {
   "display_name": "Python 2",
   "language": "python",
   "name": "python2"
  },
  "language_info": {
   "codemirror_mode": {
    "name": "ipython",
    "version": 2
   },
   "file_extension": ".py",
   "mimetype": "text/x-python",
   "name": "python",
   "nbconvert_exporter": "python",
   "pygments_lexer": "ipython2",
   "version": "2.7.6"
  }
 },
 "nbformat": 4,
 "nbformat_minor": 0
}
