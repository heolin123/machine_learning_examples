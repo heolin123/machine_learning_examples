{
 "cells": [
  {
   "cell_type": "code",
   "execution_count": 83,
   "metadata": {
    "collapsed": false
   },
   "outputs": [],
   "source": [
    "from pybrain.supervised.trainers import BackpropTrainer\n",
    "from pybrain.structure import FeedForwardNetwork, LinearLayer, FullConnection\n",
    "from pybrain.datasets import SupervisedDataSet\n",
    "\n",
    "import numpy as np"
   ]
  },
  {
   "cell_type": "code",
   "execution_count": 91,
   "metadata": {
    "collapsed": false
   },
   "outputs": [],
   "source": [
    "network = FeedForwardNetwork()\n",
    "\n",
    "input_layer = LinearLayer(2)\n",
    "output_layer = LinearLayer(1)\n",
    "network.addInputModule(input_layer)\n",
    "network.addOutputModule(output_layer)\n",
    "\n",
    "input_to_output_connections = FullConnection(input_layer, output_layer)\n",
    "network.addConnection(input_to_output_connections)\n",
    "\n",
    "network.sortModules()"
   ]
  },
  {
   "cell_type": "code",
   "execution_count": 92,
   "metadata": {
    "collapsed": false
   },
   "outputs": [],
   "source": [
    "n = 500\n",
    "min_value = 0\n",
    "max_value = 100\n",
    "X = np.random.randint(min_value, max_value, size=n)\n",
    "Y = np.random.randint(min_value, max_value, size=n)\n",
    "Z = (X + Y)\n",
    "\n",
    "X = X / float(max_value)\n",
    "Y = Y / float(max_value)\n",
    "Z = Z / float(max_value)\n",
    "\n",
    "training_set = SupervisedDataSet(2, 1)\n",
    "for i in range(n):\n",
    "    training_set.addSample(np.array([X[i], Y[i]]), Z[i])\n"
   ]
  },
  {
   "cell_type": "code",
   "execution_count": 98,
   "metadata": {
    "collapsed": false
   },
   "outputs": [
    {
     "name": "stdout",
     "output_type": "stream",
     "text": [
      "Total error: 1.43609035591e-06\n",
      "Total error: 1.64593103846e-08\n",
      "Total error: 1.83786015362e-10\n",
      "Total error: 2.12402222279e-12\n",
      "Total error: 2.37548125229e-14\n",
      "Total error: 2.67951736069e-16\n",
      "Total error: 2.95005108882e-18\n",
      "Total error: 3.3434448642e-20\n",
      "Total error: 3.75896593694e-22\n",
      "Total error: 4.27049111446e-24\n"
     ]
    }
   ],
   "source": [
    "trainer = BackpropTrainer(network, training_set, learningrate=0.01, momentum=0.8, verbose=True)\n",
    "for _ in range(10):\n",
    "    trainer.trainEpochs(1)"
   ]
  },
  {
   "cell_type": "code",
   "execution_count": 99,
   "metadata": {
    "collapsed": false
   },
   "outputs": [
    {
     "data": {
      "text/plain": [
       "array([ 54.])"
      ]
     },
     "execution_count": 99,
     "metadata": {},
     "output_type": "execute_result"
    }
   ],
   "source": [
    "network.activate([6,48])"
   ]
  },
  {
   "cell_type": "code",
   "execution_count": null,
   "metadata": {
    "collapsed": true
   },
   "outputs": [],
   "source": []
  },
  {
   "cell_type": "code",
   "execution_count": null,
   "metadata": {
    "collapsed": true
   },
   "outputs": [],
   "source": []
  }
 ],
 "metadata": {
  "kernelspec": {
   "display_name": "Python 2",
   "language": "python",
   "name": "python2"
  },
  "language_info": {
   "codemirror_mode": {
    "name": "ipython",
    "version": 2
   },
   "file_extension": ".py",
   "mimetype": "text/x-python",
   "name": "python",
   "nbconvert_exporter": "python",
   "pygments_lexer": "ipython2",
   "version": "2.7.6"
  }
 },
 "nbformat": 4,
 "nbformat_minor": 0
}
