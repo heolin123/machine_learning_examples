{
 "cells": [
  {
   "cell_type": "code",
   "execution_count": 2,
   "metadata": {
    "collapsed": true
   },
   "outputs": [],
   "source": [
    "%matplotlib inline"
   ]
  },
  {
   "cell_type": "code",
   "execution_count": 17,
   "metadata": {
    "collapsed": true
   },
   "outputs": [],
   "source": [
    "import numpy as np\n",
    "import pylab\n",
    "import pandas as pd"
   ]
  },
  {
   "cell_type": "code",
   "execution_count": 83,
   "metadata": {
    "collapsed": false
   },
   "outputs": [],
   "source": [
    "alpha = np.array([0.0001, 0.0001, 0.0001, 0.0001, 0.0001, 0.0001, 0.0001, 0.0001]).reshape(d, 1)"
   ]
  },
  {
   "cell_type": "code",
   "execution_count": 84,
   "metadata": {
    "collapsed": false
   },
   "outputs": [
    {
     "data": {
      "image/png": "[encoded data removed]",
      "text/plain": [
       "<matplotlib.figure.Figure at 0x7feec7aeb990>"
      ]
     },
     "metadata": {},
     "output_type": "display_data"
    }
   ],
   "source": [
    "df = pd.read_csv('dataset.tsv', header=0, sep='\\t')\n",
    "n = len(df.index)\n",
    "d = 8\n",
    "base_X = 0\n",
    "\n",
    "X=np.ones(shape=(n, d))\n",
    "X[:, 0]=np.array(df['x1'])\n",
    "X[:, 1]=np.array(df['x2'])\n",
    "X[:, 2]=np.array(df['x3'])\n",
    "X[:, 3]=np.array(df['x4'])\n",
    "X[:, 4]=np.array(df['x5'])\n",
    "X[:, 5]=np.array(df['x6'])\n",
    "X[:, 6]=np.array(df['x7'])\n",
    "\n",
    "Y = np.array(df['y']).reshape(n, 1)\n",
    "\n",
    "pylab.plot(X[:, base_X], Y, 'o')\n",
    "pylab.show()"
   ]
  },
  {
   "cell_type": "code",
   "execution_count": 86,
   "metadata": {
    "collapsed": false
   },
   "outputs": [
    {
     "name": "stdout",
     "output_type": "stream",
     "text": [
      "[[-0.37753211]\n",
      " [ 1.12254046]\n",
      " [ 0.04538008]\n",
      " [-0.00242072]\n",
      " [-0.24347208]\n",
      " [ 0.08401231]\n",
      " [-0.01516604]\n",
      " [-0.08427179]]\n"
     ]
    },
    {
     "data": {
      "image/png": "[encoded data removed]",
      "text/plain": [
       "<matplotlib.figure.Figure at 0x7feec7c41710>"
      ]
     },
     "metadata": {},
     "output_type": "display_data"
    }
   ],
   "source": [
    "theta = np.zeros(shape=(d, 1))\n",
    "\n",
    "def get_gradient(theta, X, Y):\n",
    "    gradient = np.zeros(len(theta)).reshape(len(theta),1)\n",
    "    h = X.dot(theta)\n",
    "    delta = h - Y\n",
    "    sumdelta = delta.T.dot(X).T\n",
    "    for i in xrange(gradient.size):\n",
    "        gradient[i] = (1.0 / n) * sumdelta[i] * - 1\n",
    "    gradient *= alpha\n",
    "    return sumdelta, gradient\n",
    "\n",
    "sumdelta = np.ones(len(theta)).reshape(len(theta),1)\n",
    "last_theta = np.ones(shape=(d, 1))\n",
    "while np.max(np.abs(theta - last_theta)) > 0.000001:\n",
    "    sumdelta, gradient = get_gradient(theta, X, Y)\n",
    "    last_theta = theta\n",
    "    theta = theta + gradient\n",
    "print theta\n",
    "P=X.dot(theta)\n",
    "pylab.plot(X[:, base_X], Y, 'o')\n",
    "pylab.plot(X[:, base_X], P, 'k-',  color='red')\n",
    "pylab.show()"
   ]
  }
 ],
 "metadata": {
  "kernelspec": {
   "display_name": "Python 2",
   "language": "python",
   "name": "python2"
  },
  "language_info": {
   "codemirror_mode": {
    "name": "ipython",
    "version": 2
   },
   "file_extension": ".py",
   "mimetype": "text/x-python",
   "name": "python",
   "nbconvert_exporter": "python",
   "pygments_lexer": "ipython2",
   "version": "2.7.6"
  }
 },
 "nbformat": 4,
 "nbformat_minor": 0
}
