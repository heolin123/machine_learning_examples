{
 "cells": [
  {
   "cell_type": "code",
   "execution_count": 29,
   "metadata": {
    "collapsed": true
   },
   "outputs": [],
   "source": [
    "from pybrain.datasets.supervised import SupervisedDataSet\n",
    "from pybrain.tools.shortcuts import buildNetwork\n",
    "from pybrain.supervised.trainers import BackpropTrainer, RPropMinusTrainer\n",
    "from pybrain.structure import  LinearLayer,SigmoidLayer\n",
    "\n",
    "import numpy as np"
   ]
  },
  {
   "cell_type": "code",
   "execution_count": 74,
   "metadata": {
    "collapsed": false
   },
   "outputs": [
    {
     "ename": "NetworkError",
     "evalue": "buildNetwork needs 2 arguments for input and output layers at least.",
     "output_type": "error",
     "traceback": [
      "\u001b[1;31m---------------------------------------------------------------------------\u001b[0m",
      "\u001b[1;31mNetworkError\u001b[0m                              Traceback (most recent call last)",
      "\u001b[1;32m<ipython-input-74-71b82f3af9d4>\u001b[0m in \u001b[0;36m<module>\u001b[1;34m()\u001b[0m\n\u001b[0;32m      3\u001b[0m \u001b[0mn_out\u001b[0m \u001b[1;33m=\u001b[0m \u001b[1;36m1\u001b[0m\u001b[1;33m\u001b[0m\u001b[0m\n\u001b[0;32m      4\u001b[0m \u001b[1;33m\u001b[0m\u001b[0m\n\u001b[1;32m----> 5\u001b[1;33m \u001b[0mnetwork\u001b[0m \u001b[1;33m=\u001b[0m \u001b[0mbuildNetwork\u001b[0m\u001b[1;33m(\u001b[0m\u001b[1;33m[\u001b[0m\u001b[0mn_input\u001b[0m\u001b[1;33m,\u001b[0m \u001b[0mn_hidden\u001b[0m\u001b[1;33m,\u001b[0m \u001b[0mn_hidden\u001b[0m\u001b[1;33m,\u001b[0m \u001b[0mn_out\u001b[0m\u001b[1;33m]\u001b[0m\u001b[1;33m,\u001b[0m \u001b[0moutclass\u001b[0m\u001b[1;33m=\u001b[0m\u001b[0mSigmoidLayer\u001b[0m\u001b[1;33m)\u001b[0m\u001b[1;33m\u001b[0m\u001b[0m\n\u001b[0m\u001b[0;32m      6\u001b[0m \u001b[0mnetwork\u001b[0m\u001b[1;33m.\u001b[0m\u001b[0msortModules\u001b[0m\u001b[1;33m(\u001b[0m\u001b[1;33m)\u001b[0m\u001b[1;33m\u001b[0m\u001b[0m\n",
      "\u001b[1;32m/usr/local/lib/python2.7/dist-packages/pybrain/tools/shortcuts.pyc\u001b[0m in \u001b[0;36mbuildNetwork\u001b[1;34m(*layers, **options)\u001b[0m\n\u001b[0;32m     50\u001b[0m \u001b[1;33m\u001b[0m\u001b[0m\n\u001b[0;32m     51\u001b[0m     \u001b[1;32mif\u001b[0m \u001b[0mlen\u001b[0m\u001b[1;33m(\u001b[0m\u001b[0mlayers\u001b[0m\u001b[1;33m)\u001b[0m \u001b[1;33m<\u001b[0m \u001b[1;36m2\u001b[0m\u001b[1;33m:\u001b[0m\u001b[1;33m\u001b[0m\u001b[0m\n\u001b[1;32m---> 52\u001b[1;33m         \u001b[1;32mraise\u001b[0m \u001b[0mNetworkError\u001b[0m\u001b[1;33m(\u001b[0m\u001b[1;34m'buildNetwork needs 2 arguments for input and output layers at least.'\u001b[0m\u001b[1;33m)\u001b[0m\u001b[1;33m\u001b[0m\u001b[0m\n\u001b[0m\u001b[0;32m     53\u001b[0m \u001b[1;33m\u001b[0m\u001b[0m\n\u001b[0;32m     54\u001b[0m     \u001b[1;31m# Bind the right class to the Network name\u001b[0m\u001b[1;33m\u001b[0m\u001b[1;33m\u001b[0m\u001b[0m\n",
      "\u001b[1;31mNetworkError\u001b[0m: buildNetwork needs 2 arguments for input and output layers at least."
     ]
    }
   ],
   "source": [
    "n_input = 9\n",
    "n_hidden = 9\n",
    "n_out = 1\n",
    "\n",
    "network = buildNetwork([n_input, n_hidden, n_hidden, n_out], outclass=SigmoidLayer)\n",
    "network.sortModules()"
   ]
  },
  {
   "cell_type": "code",
   "execution_count": 72,
   "metadata": {
    "collapsed": false
   },
   "outputs": [],
   "source": [
    "zero = np.array([1, 1, 1, 1, 0, 1, 1, 1, 1])\n",
    "one = np.array([0, 1, 0, 0, 1, 0, 0, 1, 0])\n",
    "\n",
    "\n",
    "training_set = SupervisedDataSet(n_input, n_out)\n",
    "training_set.addSample(zero, 0)\n",
    "training_set.addSample(one, 1)"
   ]
  },
  {
   "cell_type": "code",
   "execution_count": 73,
   "metadata": {
    "collapsed": false
   },
   "outputs": [
    {
     "name": "stdout",
     "output_type": "stream",
     "text": [
      "Total error: 0.158932649087\n",
      "Total error: 0.157968888093\n",
      "Total error: 0.157776958506\n",
      "Total error: 0.156351224271\n",
      "Total error: 0.154838351015\n",
      "Total error: 0.153273856091\n",
      "Total error: 0.150761478447\n",
      "Total error: 0.150588152759\n",
      "Total error: 0.14772550903\n",
      "Total error: 0.14636985651\n",
      "Total error: 0.144933069831\n",
      "Total error: 0.144861449632\n",
      "Total error: 0.141648465665\n",
      "Total error: 0.141645093135\n",
      "Total error: 0.13859832211\n",
      "Total error: 0.13865878947\n",
      "Total error: 0.13691654259\n",
      "Total error: 0.135343691513\n",
      "Total error: 0.133895885428\n",
      "Total error: 0.131613251469\n"
     ]
    }
   ],
   "source": [
    "trainer = BackpropTrainer(network, training_set, learningrate=0.01, momentum=0.8, verbose=True)\n",
    "for _ in range(20):\n",
    "    trainer.trainEpochs(1)"
   ]
  },
  {
   "cell_type": "code",
   "execution_count": 70,
   "metadata": {
    "collapsed": false
   },
   "outputs": [],
   "source": [
    "def parse(x):\n",
    "    if x[0] > 0.5:\n",
    "        return 1\n",
    "    else:\n",
    "        return 0"
   ]
  },
  {
   "cell_type": "code",
   "execution_count": 66,
   "metadata": {
    "collapsed": false
   },
   "outputs": [
    {
     "data": {
      "text/plain": [
       "1"
      ]
     },
     "execution_count": 66,
     "metadata": {},
     "output_type": "execute_result"
    }
   ],
   "source": [
    "value = np.array([1,1,1,\n",
    "                  1,0,1,\n",
    "                  1,1,1])\n",
    "value2 = np.array([0,1,0,\n",
    "                   0,0,0,\n",
    "                   0,1,0])\n",
    "parse(network.activate(value2))"
   ]
  },
  {
   "cell_type": "code",
   "execution_count": null,
   "metadata": {
    "collapsed": true
   },
   "outputs": [],
   "source": []
  }
 ],
 "metadata": {
  "kernelspec": {
   "display_name": "Python 2",
   "language": "python",
   "name": "python2"
  },
  "language_info": {
   "codemirror_mode": {
    "name": "ipython",
    "version": 2
   },
   "file_extension": ".py",
   "mimetype": "text/x-python",
   "name": "python",
   "nbconvert_exporter": "python",
   "pygments_lexer": "ipython2",
   "version": "2.7.6"
  }
 },
 "nbformat": 4,
 "nbformat_minor": 0
}
